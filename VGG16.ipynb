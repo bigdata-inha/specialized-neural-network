{
 "cells": [
  {
   "cell_type": "code",
   "execution_count": null,
   "metadata": {
    "collapsed": true
   },
   "outputs": [],
   "source": [
    "from utils_load_data import load_cifar10, load_cifar10_img_form\n",
    "import numpy as np\n",
    "import pickle\n",
    "import os\n",
    "import datetime\n",
    "from keras import layers\n",
    "from keras import models\n",
    "from keras import optimizers\n",
    "from keras.utils import to_categorical"
   ]
  },
  {
   "cell_type": "code",
   "execution_count": null,
   "metadata": {},
   "outputs": [],
   "source": [
    "def load_cifar10_batch(directory):\n",
    "    \"\"\" load batch of cifar \"\"\"\n",
    "    with open(directory, 'rb') as fo:\n",
    "        datadict = pickle.load(fo, encoding='bytes')\n",
    "    X = np.array(datadict[b'data'])\n",
    "    Y = np.array(datadict[b'labels'])\n",
    "    return X, Y\n",
    "\n",
    "def load_cifar10(directory):\n",
    "    \"\"\" load all of cifar \"\"\"\n",
    "    train_data = []\n",
    "    train_labels = []\n",
    "    for b in range(1, 6):\n",
    "        f = os.path.join(directory, 'data_batch_%d' % (b,))\n",
    "        X, Y = load_cifar10_batch(f)\n",
    "        train_data.append(X)\n",
    "        train_labels.append(Y)\n",
    "    train_data = np.concatenate(train_data)\n",
    "    train_labels = np.concatenate(train_labels)\n",
    "    del X, Y\n",
    "    test_data, test_labels = load_cifar10_batch(os.path.join(directory, 'test_batch'))\n",
    "    return train_data, train_labels, test_data, test_labels\n",
    "\n",
    "def load_cifar10_img_form(directory):\n",
    "    \"\"\" load all of cifar as image form \"\"\"\n",
    "    train_data, train_labels, test_data, test_labels = load_cifar10(directory)\n",
    "    R, testR = train_data[:, :1024].reshape(-1, 32, 32, 1), test_data[:, :1024].reshape(-1, 32, 32, 1)\n",
    "    G, testG = train_data[:, 1024:2048].reshape(-1, 32, 32, 1), test_data[:, 1024:2048].reshape(-1, 32, 32, 1)\n",
    "    B, testB = train_data[:, 2048:].reshape(-1, 32, 32, 1), test_data[:, 2048:].reshape(-1, 32, 32, 1)\n",
    "    train_data, test_data = np.concatenate((R, G, B), axis=3), np.concatenate((testR, testG, testB), axis=3)\n",
    "    return train_data, train_labels, test_data, test_labels"
   ]
  },
  {
   "cell_type": "code",
   "execution_count": null,
   "metadata": {},
   "outputs": [],
   "source": [
    "train_data, train_labels, test_data, test_labels = load_cifar10_img_form(\"datasets/cifar-10-batches\")"
   ]
  },
  {
   "cell_type": "code",
   "execution_count": null,
   "metadata": {},
   "outputs": [],
   "source": [
    "train_data, test_data = train_data.astype('float32') / 255.0, test_data.astype('float32') / 255.0\n",
    "train_labels, test_labels = to_categorical(train_labels, 10), to_categorical(test_labels, 10)\n",
    "\n",
    "train_data, val_data = train_data[:40000],  train_data[40000:]\n",
    "train_labels, val_labels = train_labels[:40000], train_labels[40000:]"
   ]
  },
  {
   "cell_type": "code",
   "execution_count": null,
   "metadata": {},
   "outputs": [],
   "source": [
    "def show_train_per_time(history, time_callback):\n",
    "    acc = history.history['acc']\n",
    "    val_acc = history.history['val_acc']\n",
    "    loss = history.history['loss']\n",
    "    val_loss = history.history['val_loss']\n",
    "    times = time_callback.times\n",
    "    \n",
    "    plt.plot(times, acc, 'bo', label='Training acc')\n",
    "    plt.plot(times, val_acc, 'b', label='Validation acc')\n",
    "    plt.title('Training and validation accuracy')\n",
    "    plt.xticks([times[0], times[-1]], visible=True, rotation='horizontal')\n",
    "    plt.legend()\n",
    "    plt.figure()\n",
    "\n",
    "    plt.plot(times, loss, 'bo', label='Training loss')\n",
    "    plt.plot(times, val_loss, 'b', label='Validation loss')\n",
    "    plt.title('Training and validation loss')\n",
    "    plt.xticks([times[0], times[-1]], visible=True, rotation='horizontal')\n",
    "    plt.legend()\n",
    "    plt.show()\n",
    "    return"
   ]
  },
  {
   "cell_type": "code",
   "execution_count": null,
   "metadata": {},
   "outputs": [],
   "source": [
    "class TimeHistory(callbacks.Callback):\n",
    "    def on_train_begin(self, logs={}):\n",
    "        self.times = []\n",
    "        self.start_time = time.time()\n",
    "\n",
    "    def on_epoch_begin(self, epoch, logs={}):\n",
    "        self.epoch_time_start = time.time()\n",
    "\n",
    "    def on_epoch_end(self, epoch, logs={}):\n",
    "        elapsed_time = time.time() - self.start_time\n",
    "        self.times.append(time.strftime(\"%H:%M:%S\", time.gmtime(elapsed_time)))\n"
   ]
  },
  {
   "cell_type": "code",
   "execution_count": null,
   "metadata": {},
   "outputs": [],
   "source": [
    "early_stopping = callbacks.EarlyStopping(monitor='val_loss', min_delta = 0.01, mode='min', patience=100)"
   ]
  },
  {
   "cell_type": "code",
   "execution_count": null,
   "metadata": {},
   "outputs": [],
   "source": [
    "num_classes = 10\n",
    "input_shape = (32, 32, 3)\n",
    "\n",
    "model = models.Sequential()\n",
    "\n",
    "# Block1\n",
    "model.add(layers.Conv2D(64, (3, 3), activation='relu', padding='same', name='block1_conv1', input_shape=input_shape))\n",
    "model.add(layers.Conv2D(64, (3, 3), activation='relu', padding='same', name='block1_conv2'))\n",
    "model.add(layers.MaxPooling2D((2, 2), strides=(2, 2), name='block1_pool'))\n",
    "\n",
    "# Block2\n",
    "model.add(layers.Conv2D(128, (3, 3), activation='relu', padding='same', name='block2_conv1'))\n",
    "model.add(layers.Conv2D(128, (3, 3), activation='relu', padding='same', name='block2_conv2'))\n",
    "model.add(layers.MaxPooling2D((2, 2), strides=(2, 2), name='block2_pool'))\n",
    "\n",
    "# Block3\n",
    "model.add(layers.Conv2D(256, (3, 3), activation='relu', padding='same', name='block3_conv1'))\n",
    "model.add(layers.Conv2D(256, (3, 3), activation='relu', padding='same', name='block3_conv2'))\n",
    "model.add(layers.Conv2D(256, (3, 3), activation='relu', padding='same', name='block3_conv3'))\n",
    "model.add(layers.MaxPooling2D((2, 2), strides=(2, 2), name='block3_pool'))\n",
    "\n",
    "# Block4\n",
    "model.add(layers.Conv2D(512, (3, 3), activation='relu', padding='same', name='block4_conv1'))\n",
    "model.add(layers.Conv2D(512, (3, 3), activation='relu', padding='same', name='block4_conv2'))\n",
    "model.add(layers.Conv2D(512, (3, 3), activation='relu', padding='same', name='block4_conv3'))\n",
    "model.add(layers.MaxPooling2D((2, 2), strides=(2, 2), name='block4_pool'))\n",
    "\n",
    "# Block5\n",
    "model.add(layers.Conv2D(512, (3, 3), activation='relu', padding='same', name='block5_conv1'))\n",
    "model.add(layers.Conv2D(512, (3, 3), activation='relu', padding='same', name='block5_conv2'))\n",
    "model.add(layers.Conv2D(512, (3, 3), activation='relu', padding='same', name='block5_conv3'))\n",
    "model.add(layers.MaxPooling2D((2, 2), strides=(2, 2), name='block5_pool'))\n",
    "\n",
    "# FC layers\n",
    "model.add(layers.Flatten(name='flatten'))\n",
    "model.add(layers.Dense(512, activation='relu', name='fc1'))\n",
    "model.add(layers.Dense(512, activation='relu', name='fc2'))\n",
    "model.add(layers.Dense(num_classes, activation='softmax'))"
   ]
  },
  {
   "cell_type": "code",
   "execution_count": null,
   "metadata": {},
   "outputs": [],
   "source": [
    "start_time = datetime.datetime.now().strftime('%B-%d %H:%M:%S')\n",
    "time_callback = TimeHistory()\n",
    "model.compile(optimizer=optimizers.Adam(lr=0.001), loss='categorical_crossentropy', metrics=['accuracy'])\n",
    "history = model.fit(train_data, train_labels, batch_size=1000, epochs=1000, validation_data=(val_data, val_labels),\n",
    "                    callbacks=[time_callback, early_stopping])\n",
    "\n",
    "print('model fitting start:', start_time)\n",
    "print('model fitting end and save:', datetime.datetime.now().strftime('%B-%d %H:%M:%S'))"
   ]
  },
  {
   "cell_type": "code",
   "execution_count": null,
   "metadata": {},
   "outputs": [],
   "source": [
    "show_train_per_time(history, time_callback)"
   ]
  },
  {
   "cell_type": "code",
   "execution_count": null,
   "metadata": {},
   "outputs": [],
   "source": [
    "model.evaluate(test_data, test_labels)"
   ]
  },
  {
   "cell_type": "code",
   "execution_count": null,
   "metadata": {},
   "outputs": [],
   "source": [
    "model.save('VGG16_full.h5')"
   ]
  }
 ],
 "metadata": {
  "kernelspec": {
   "display_name": "Python 2",
   "language": "python",
   "name": "python2"
  },
  "language_info": {
   "codemirror_mode": {
    "name": "ipython",
    "version": 2
   },
   "file_extension": ".py",
   "mimetype": "text/x-python",
   "name": "python",
   "nbconvert_exporter": "python",
   "pygments_lexer": "ipython2",
   "version": "2.7.6"
  }
 },
 "nbformat": 4,
 "nbformat_minor": 0
}
